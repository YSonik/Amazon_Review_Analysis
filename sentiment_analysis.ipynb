{
 "cells": [
  {
   "cell_type": "markdown",
   "metadata": {},
   "source": [
    "## Extract Transform and Load the Data set."
   ]
  },
  {
   "cell_type": "code",
   "execution_count": null,
   "metadata": {},
   "outputs": [
    {
     "name": "stdout",
     "output_type": "stream",
     "text": [
      "(264628, 5)\n"
     ]
    },
    {
     "data": {
      "text/html": [
       "<div>\n",
       "<style scoped>\n",
       "    .dataframe tbody tr th:only-of-type {\n",
       "        vertical-align: middle;\n",
       "    }\n",
       "\n",
       "    .dataframe tbody tr th {\n",
       "        vertical-align: top;\n",
       "    }\n",
       "\n",
       "    .dataframe thead th {\n",
       "        text-align: right;\n",
       "    }\n",
       "</style>\n",
       "<table border=\"1\" class=\"dataframe\">\n",
       "  <thead>\n",
       "    <tr style=\"text-align: right;\">\n",
       "      <th></th>\n",
       "      <th>Id</th>\n",
       "      <th>UserId</th>\n",
       "      <th>HelpfulnessNumerator</th>\n",
       "      <th>Score</th>\n",
       "      <th>Text</th>\n",
       "    </tr>\n",
       "  </thead>\n",
       "  <tbody>\n",
       "    <tr>\n",
       "      <th>0</th>\n",
       "      <td>1</td>\n",
       "      <td>A3SGXH7AUHU8GW</td>\n",
       "      <td>1</td>\n",
       "      <td>5</td>\n",
       "      <td>I have bought several of the Vitality canned d...</td>\n",
       "    </tr>\n",
       "    <tr>\n",
       "      <th>2</th>\n",
       "      <td>3</td>\n",
       "      <td>ABXLMWJIXXAIN</td>\n",
       "      <td>1</td>\n",
       "      <td>4</td>\n",
       "      <td>This is a confection that has been around a fe...</td>\n",
       "    </tr>\n",
       "    <tr>\n",
       "      <th>3</th>\n",
       "      <td>4</td>\n",
       "      <td>A395BORC6FGVXV</td>\n",
       "      <td>3</td>\n",
       "      <td>2</td>\n",
       "      <td>If you are looking for the secret ingredient i...</td>\n",
       "    </tr>\n",
       "    <tr>\n",
       "      <th>8</th>\n",
       "      <td>9</td>\n",
       "      <td>A1MZYO9TZK0BBI</td>\n",
       "      <td>1</td>\n",
       "      <td>5</td>\n",
       "      <td>Right now I'm mostly just sprouting this so my...</td>\n",
       "    </tr>\n",
       "    <tr>\n",
       "      <th>10</th>\n",
       "      <td>11</td>\n",
       "      <td>A3HDKO7OW0QNK4</td>\n",
       "      <td>1</td>\n",
       "      <td>5</td>\n",
       "      <td>I don't know if it's the cactus or the tequila...</td>\n",
       "    </tr>\n",
       "  </tbody>\n",
       "</table>\n",
       "</div>"
      ],
      "text/plain": [
       "    Id          UserId  HelpfulnessNumerator  Score  \\\n",
       "0    1  A3SGXH7AUHU8GW                     1      5   \n",
       "2    3   ABXLMWJIXXAIN                     1      4   \n",
       "3    4  A395BORC6FGVXV                     3      2   \n",
       "8    9  A1MZYO9TZK0BBI                     1      5   \n",
       "10  11  A3HDKO7OW0QNK4                     1      5   \n",
       "\n",
       "                                                 Text  \n",
       "0   I have bought several of the Vitality canned d...  \n",
       "2   This is a confection that has been around a fe...  \n",
       "3   If you are looking for the secret ingredient i...  \n",
       "8   Right now I'm mostly just sprouting this so my...  \n",
       "10  I don't know if it's the cactus or the tequila...  "
      ]
     },
     "execution_count": 1,
     "metadata": {},
     "output_type": "execute_result"
    }
   ],
   "source": [
    "import pandas as pd \n",
    "import numpy as np\n",
    "import matplotlib.pyplot as plt \n",
    "\n",
    "reviews_df = pd.read_csv(\"Reviews.csv\")\n",
    "\n",
    "helpfulnessMask = reviews_df[\"HelpfulnessNumerator\"] > 0\n",
    "reviews_df = reviews_df[helpfulnessMask]\n",
    "\n",
    "reviews_df['ReviewLength'] = list(map(len, reviews_df['Text']))\n",
    "reviewLengthMask = reviews_df[\"ReviewLength\"] <= 512\n",
    "reviews_df = reviews_df[reviewLengthMask]\n",
    "\n",
    "reviews_df.drop(columns=[\"ProductId\", \"ProfileName\", \"HelpfulnessDenominator\", \"Time\", \"Summary\"], inplace=True)\n",
    "\n",
    "print(reviews_df.shape)\n",
    "reviews_df.head()"
   ]
  },
  {
   "cell_type": "markdown",
   "metadata": {},
   "source": [
    "## Sentiment Analysis"
   ]
  },
  {
   "cell_type": "code",
   "execution_count": 1,
   "metadata": {},
   "outputs": [],
   "source": [
    "from transformers import AutoTokenizer\n",
    "from transformers import AutoModelForSequenceClassification\n",
    "from transformers import pipeline\n",
    "from scipy.special import softmax\n",
    "\n",
    "# sentiment_analysis_pipeline = pipeline('sentiment-analysis')\n",
    "\n",
    "# x = sentiment_analysis_pipeline('Hello I am happy')\n",
    "# print(x[0]['label'])\n",
    "# reviews_df['Label'] = sentiment_analysis_pipeline(reviews_df['Text'])\n",
    "# reviews_df['Label'] = list(map(sentiment_analysis_pipeline, reviews_df['Text']))\n",
    "\n",
    "# x = list(map(sentiment_analysis_pipeline, reviews_df['Text']))\n",
    "\n",
    "# print(x)\n",
    "\n",
    "# reviews_df\n",
    "\n",
    "\n",
    "\n",
    "#reviews_df.to_csv(\"transformed_reviews.csv\", header=True, index=True)"
   ]
  },
  {
   "cell_type": "code",
   "execution_count": null,
   "metadata": {},
   "outputs": [],
   "source": []
  }
 ],
 "metadata": {
  "kernelspec": {
   "display_name": "Python 3 (ipykernel)",
   "language": "python",
   "name": "python3"
  },
  "language_info": {
   "codemirror_mode": {
    "name": "ipython",
    "version": 3
   },
   "file_extension": ".py",
   "mimetype": "text/x-python",
   "name": "python",
   "nbconvert_exporter": "python",
   "pygments_lexer": "ipython3",
   "version": "3.11.4"
  }
 },
 "nbformat": 4,
 "nbformat_minor": 2
}
