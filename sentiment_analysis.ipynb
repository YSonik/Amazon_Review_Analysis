{
 "cells": [
  {
   "cell_type": "markdown",
   "metadata": {},
   "source": [
    "## Extract Transform and Load the Data set."
   ]
  },
  {
   "cell_type": "code",
   "execution_count": 1,
   "metadata": {},
   "outputs": [
    {
     "name": "stdout",
     "output_type": "stream",
     "text": [
      "(7609, 6)\n"
     ]
    },
    {
     "data": {
      "text/html": [
       "<div>\n",
       "<style scoped>\n",
       "    .dataframe tbody tr th:only-of-type {\n",
       "        vertical-align: middle;\n",
       "    }\n",
       "\n",
       "    .dataframe tbody tr th {\n",
       "        vertical-align: top;\n",
       "    }\n",
       "\n",
       "    .dataframe thead th {\n",
       "        text-align: right;\n",
       "    }\n",
       "</style>\n",
       "<table border=\"1\" class=\"dataframe\">\n",
       "  <thead>\n",
       "    <tr style=\"text-align: right;\">\n",
       "      <th></th>\n",
       "      <th>Id</th>\n",
       "      <th>HelpfulnessNumerator</th>\n",
       "      <th>Score</th>\n",
       "      <th>Text</th>\n",
       "      <th>ReviewLength</th>\n",
       "      <th>ReviewCount</th>\n",
       "    </tr>\n",
       "    <tr>\n",
       "      <th>UserId</th>\n",
       "      <th></th>\n",
       "      <th></th>\n",
       "      <th></th>\n",
       "      <th></th>\n",
       "      <th></th>\n",
       "      <th></th>\n",
       "    </tr>\n",
       "  </thead>\n",
       "  <tbody>\n",
       "    <tr>\n",
       "      <th>A106ZCP7RSXMRU</th>\n",
       "      <td>19034</td>\n",
       "      <td>1</td>\n",
       "      <td>5</td>\n",
       "      <td>We like the regular Little Bear cheese puffs s...</td>\n",
       "      <td>331</td>\n",
       "      <td>40</td>\n",
       "    </tr>\n",
       "    <tr>\n",
       "      <th>A106ZCP7RSXMRU</th>\n",
       "      <td>62479</td>\n",
       "      <td>1</td>\n",
       "      <td>4</td>\n",
       "      <td>Gorilla Munch tastes a lot like Cap'n Crunch, ...</td>\n",
       "      <td>378</td>\n",
       "      <td>40</td>\n",
       "    </tr>\n",
       "    <tr>\n",
       "      <th>A106ZCP7RSXMRU</th>\n",
       "      <td>74434</td>\n",
       "      <td>2</td>\n",
       "      <td>5</td>\n",
       "      <td>We love Garden of Eatin' chips. Our favorites ...</td>\n",
       "      <td>246</td>\n",
       "      <td>40</td>\n",
       "    </tr>\n",
       "    <tr>\n",
       "      <th>A106ZCP7RSXMRU</th>\n",
       "      <td>74472</td>\n",
       "      <td>2</td>\n",
       "      <td>5</td>\n",
       "      <td>We only buy organic natural foods without any ...</td>\n",
       "      <td>426</td>\n",
       "      <td>40</td>\n",
       "    </tr>\n",
       "    <tr>\n",
       "      <th>A106ZCP7RSXMRU</th>\n",
       "      <td>94442</td>\n",
       "      <td>2</td>\n",
       "      <td>5</td>\n",
       "      <td>We love Garden of Eatin' chips. Our favorites ...</td>\n",
       "      <td>246</td>\n",
       "      <td>40</td>\n",
       "    </tr>\n",
       "  </tbody>\n",
       "</table>\n",
       "</div>"
      ],
      "text/plain": [
       "                   Id  HelpfulnessNumerator  Score   \n",
       "UserId                                               \n",
       "A106ZCP7RSXMRU  19034                     1      5  \\\n",
       "A106ZCP7RSXMRU  62479                     1      4   \n",
       "A106ZCP7RSXMRU  74434                     2      5   \n",
       "A106ZCP7RSXMRU  74472                     2      5   \n",
       "A106ZCP7RSXMRU  94442                     2      5   \n",
       "\n",
       "                                                             Text   \n",
       "UserId                                                              \n",
       "A106ZCP7RSXMRU  We like the regular Little Bear cheese puffs s...  \\\n",
       "A106ZCP7RSXMRU  Gorilla Munch tastes a lot like Cap'n Crunch, ...   \n",
       "A106ZCP7RSXMRU  We love Garden of Eatin' chips. Our favorites ...   \n",
       "A106ZCP7RSXMRU  We only buy organic natural foods without any ...   \n",
       "A106ZCP7RSXMRU  We love Garden of Eatin' chips. Our favorites ...   \n",
       "\n",
       "                ReviewLength  ReviewCount  \n",
       "UserId                                     \n",
       "A106ZCP7RSXMRU           331           40  \n",
       "A106ZCP7RSXMRU           378           40  \n",
       "A106ZCP7RSXMRU           246           40  \n",
       "A106ZCP7RSXMRU           426           40  \n",
       "A106ZCP7RSXMRU           246           40  "
      ]
     },
     "execution_count": 1,
     "metadata": {},
     "output_type": "execute_result"
    }
   ],
   "source": [
    "import pandas as pd \n",
    "import numpy as np\n",
    "import matplotlib.pyplot as plt \n",
    "\n",
    "reviews_df = pd.read_csv(\"Reviews.csv\")\n",
    "\n",
    "#Only keep reviews with a non-zero helpfulness rating.\n",
    "reviews_df = reviews_df[reviews_df[\"HelpfulnessNumerator\"] > 0]\n",
    "\n",
    "#Compute the length of each review and delete all reviews that are longer than 512 characters.\n",
    "reviews_df['ReviewLength'] = list(map(len, reviews_df['Text']))\n",
    "reviews_df = reviews_df[reviews_df[\"ReviewLength\"] <= 512]\n",
    "\n",
    "#Drop all unnecessary columns.\n",
    "reviews_df.drop(columns=[\"ProductId\", \"ProfileName\", \"HelpfulnessDenominator\", \"Time\", \"Summary\"], inplace=True)\n",
    "\n",
    "#Determine how many reviews correspond to each UserId.\n",
    "review_counts = reviews_df[\"UserId\"].value_counts()\n",
    "review_count_df = review_counts.to_frame()\n",
    "review_count_df.rename(columns={\"count\":\"ReviewCount\"}, inplace=True)\n",
    "\n",
    "#Only keep reviews by users with atleast 20 reviews.\n",
    "reviews_df.set_index(\"UserId\", inplace=True)\n",
    "reviews_df = reviews_df.join(review_count_df, how=\"outer\")\n",
    "reviews_df = reviews_df[reviews_df[\"ReviewCount\"] >=20]\n",
    "\n",
    "print(reviews_df.shape)\n",
    "reviews_df.head()"
   ]
  },
  {
   "cell_type": "markdown",
   "metadata": {},
   "source": [
    "## Sentiment Analysis"
   ]
  },
  {
   "cell_type": "code",
   "execution_count": 2,
   "metadata": {},
   "outputs": [
    {
     "name": "stderr",
     "output_type": "stream",
     "text": [
      "/Users/yogeshsonik/Library/Python/3.9/lib/python/site-packages/urllib3/__init__.py:34: NotOpenSSLWarning: urllib3 v2.0 only supports OpenSSL 1.1.1+, currently the 'ssl' module is compiled with 'LibreSSL 2.8.3'. See: https://github.com/urllib3/urllib3/issues/3020\n",
      "  warnings.warn(\n",
      "No model was supplied, defaulted to distilbert-base-uncased-finetuned-sst-2-english and revision af0f99b (https://huggingface.co/distilbert-base-uncased-finetuned-sst-2-english).\n",
      "Using a pipeline without specifying a model name and revision in production is not recommended.\n",
      "Xformers is not installed correctly. If you want to use memory_efficient_attention to accelerate training use the following command to install Xformers\n",
      "pip install xformers.\n"
     ]
    },
    {
     "data": {
      "text/html": [
       "<div>\n",
       "<style scoped>\n",
       "    .dataframe tbody tr th:only-of-type {\n",
       "        vertical-align: middle;\n",
       "    }\n",
       "\n",
       "    .dataframe tbody tr th {\n",
       "        vertical-align: top;\n",
       "    }\n",
       "\n",
       "    .dataframe thead th {\n",
       "        text-align: right;\n",
       "    }\n",
       "</style>\n",
       "<table border=\"1\" class=\"dataframe\">\n",
       "  <thead>\n",
       "    <tr style=\"text-align: right;\">\n",
       "      <th></th>\n",
       "      <th>Id</th>\n",
       "      <th>HelpfulnessNumerator</th>\n",
       "      <th>Score</th>\n",
       "      <th>Text</th>\n",
       "      <th>ReviewLength</th>\n",
       "      <th>ReviewCount</th>\n",
       "      <th>SentimentLabels</th>\n",
       "      <th>SentimentConfidence</th>\n",
       "    </tr>\n",
       "    <tr>\n",
       "      <th>UserId</th>\n",
       "      <th></th>\n",
       "      <th></th>\n",
       "      <th></th>\n",
       "      <th></th>\n",
       "      <th></th>\n",
       "      <th></th>\n",
       "      <th></th>\n",
       "      <th></th>\n",
       "    </tr>\n",
       "  </thead>\n",
       "  <tbody>\n",
       "    <tr>\n",
       "      <th>A106ZCP7RSXMRU</th>\n",
       "      <td>19034</td>\n",
       "      <td>1</td>\n",
       "      <td>5</td>\n",
       "      <td>We like the regular Little Bear cheese puffs s...</td>\n",
       "      <td>331</td>\n",
       "      <td>40</td>\n",
       "      <td>POSITIVE</td>\n",
       "      <td>0.999824</td>\n",
       "    </tr>\n",
       "    <tr>\n",
       "      <th>A106ZCP7RSXMRU</th>\n",
       "      <td>62479</td>\n",
       "      <td>1</td>\n",
       "      <td>4</td>\n",
       "      <td>Gorilla Munch tastes a lot like Cap'n Crunch, ...</td>\n",
       "      <td>378</td>\n",
       "      <td>40</td>\n",
       "      <td>POSITIVE</td>\n",
       "      <td>0.997502</td>\n",
       "    </tr>\n",
       "    <tr>\n",
       "      <th>A106ZCP7RSXMRU</th>\n",
       "      <td>74434</td>\n",
       "      <td>2</td>\n",
       "      <td>5</td>\n",
       "      <td>We love Garden of Eatin' chips. Our favorites ...</td>\n",
       "      <td>246</td>\n",
       "      <td>40</td>\n",
       "      <td>POSITIVE</td>\n",
       "      <td>0.999241</td>\n",
       "    </tr>\n",
       "    <tr>\n",
       "      <th>A106ZCP7RSXMRU</th>\n",
       "      <td>74472</td>\n",
       "      <td>2</td>\n",
       "      <td>5</td>\n",
       "      <td>We only buy organic natural foods without any ...</td>\n",
       "      <td>426</td>\n",
       "      <td>40</td>\n",
       "      <td>POSITIVE</td>\n",
       "      <td>0.995697</td>\n",
       "    </tr>\n",
       "    <tr>\n",
       "      <th>A106ZCP7RSXMRU</th>\n",
       "      <td>94442</td>\n",
       "      <td>2</td>\n",
       "      <td>5</td>\n",
       "      <td>We love Garden of Eatin' chips. Our favorites ...</td>\n",
       "      <td>246</td>\n",
       "      <td>40</td>\n",
       "      <td>POSITIVE</td>\n",
       "      <td>0.999241</td>\n",
       "    </tr>\n",
       "  </tbody>\n",
       "</table>\n",
       "</div>"
      ],
      "text/plain": [
       "                   Id  HelpfulnessNumerator  Score   \n",
       "UserId                                               \n",
       "A106ZCP7RSXMRU  19034                     1      5  \\\n",
       "A106ZCP7RSXMRU  62479                     1      4   \n",
       "A106ZCP7RSXMRU  74434                     2      5   \n",
       "A106ZCP7RSXMRU  74472                     2      5   \n",
       "A106ZCP7RSXMRU  94442                     2      5   \n",
       "\n",
       "                                                             Text   \n",
       "UserId                                                              \n",
       "A106ZCP7RSXMRU  We like the regular Little Bear cheese puffs s...  \\\n",
       "A106ZCP7RSXMRU  Gorilla Munch tastes a lot like Cap'n Crunch, ...   \n",
       "A106ZCP7RSXMRU  We love Garden of Eatin' chips. Our favorites ...   \n",
       "A106ZCP7RSXMRU  We only buy organic natural foods without any ...   \n",
       "A106ZCP7RSXMRU  We love Garden of Eatin' chips. Our favorites ...   \n",
       "\n",
       "                ReviewLength  ReviewCount SentimentLabels  SentimentConfidence  \n",
       "UserId                                                                          \n",
       "A106ZCP7RSXMRU           331           40        POSITIVE             0.999824  \n",
       "A106ZCP7RSXMRU           378           40        POSITIVE             0.997502  \n",
       "A106ZCP7RSXMRU           246           40        POSITIVE             0.999241  \n",
       "A106ZCP7RSXMRU           426           40        POSITIVE             0.995697  \n",
       "A106ZCP7RSXMRU           246           40        POSITIVE             0.999241  "
      ]
     },
     "execution_count": 2,
     "metadata": {},
     "output_type": "execute_result"
    }
   ],
   "source": [
    "from transformers import AutoTokenizer\n",
    "from transformers import AutoModelForSequenceClassification\n",
    "from transformers import pipeline\n",
    "from scipy.special import softmax\n",
    "\n",
    "#Roberta Sentiment Analysis Model.\n",
    "sentiment_analysis_pipeline = pipeline('sentiment-analysis')\n",
    "\n",
    "#Determine the sentiment label and score for each review.\n",
    "sentiment_objects = list(map(sentiment_analysis_pipeline, reviews_df['Text']))\n",
    "sentiment_labels = [obj[0]['label'] for obj in sentiment_objects]\n",
    "sentiment_confidence = [obj[0]['score'] for obj in sentiment_objects]\n",
    "\n",
    "#Append the sentimetn scores and labels to the dataframe.\n",
    "reviews_df[\"SentimentLabels\"] = sentiment_labels\n",
    "reviews_df[\"SentimentConfidence\"] = sentiment_confidence\n",
    "\n",
    "#Save the new dataframe as a csv file.\n",
    "reviews_df.to_csv(\"transformed_reviews.csv\", header=True, index=True)\n",
    "\n",
    "reviews_df.head()"
   ]
  },
  {
   "cell_type": "markdown",
   "metadata": {},
   "source": [
    "## Data Visualization"
   ]
  },
  {
   "cell_type": "code",
   "execution_count": 3,
   "metadata": {},
   "outputs": [
    {
     "data": {
      "text/plain": [
       "(array([5662.,    0.,    0.,    0.,    0.,    0.,    0.,    0.,    0.,\n",
       "        1947.]),\n",
       " array([0. , 0.1, 0.2, 0.3, 0.4, 0.5, 0.6, 0.7, 0.8, 0.9, 1. ]),\n",
       " <BarContainer object of 10 artists>)"
      ]
     },
     "execution_count": 3,
     "metadata": {},
     "output_type": "execute_result"
    },
    {
     "data": {
      "image/png": "[encoded data removed]",
      "text/plain": [
       "<Figure size 640x480 with 1 Axes>"
      ]
     },
     "metadata": {},
     "output_type": "display_data"
    }
   ],
   "source": [
    "data_df = pd.read_csv(\"transformed_reviews.csv\")\n",
    "plt.hist(data_df[\"SentimentLabels\"])"
   ]
  },
  {
   "cell_type": "markdown",
   "metadata": {},
   "source": [
    "**Random Sample of 50 Positive and 50 Negative Reviews for T-test**"
   ]
  },
  {
   "cell_type": "code",
   "execution_count": 4,
   "metadata": {},
   "outputs": [],
   "source": [
    "# pos_reviews = reviews_df[\"Score\"] >= 4 # 4 stars or more is a positive review\n",
    "# reviews_pos = reviews_df[pos_reviews]\n",
    "# neg_reviews = reviews_df[\"Score\"] <= 2 # 2 stars and below is a negative review\n",
    "# reviews_neg = reviews_df[neg_reviews]\n",
    "\n",
    "# reviews_pos.drop(columns=[\"Text\", \"ReviewLength\"], inplace=True)\n",
    "# reviews_neg.drop(columns=[\"Text\", \"ReviewLength\"], inplace=True)\n",
    "\n",
    "# print(reviews_pos.shape)\n",
    "# reviews_pos.sample(50)"
   ]
  },
  {
   "cell_type": "code",
   "execution_count": 5,
   "metadata": {},
   "outputs": [],
   "source": [
    "# print(reviews_neg.shape)\n",
    "# reviews_neg.sample(50)"
   ]
  }
 ],
 "metadata": {
  "kernelspec": {
   "display_name": "Python 3 (ipykernel)",
   "language": "python",
   "name": "python3"
  },
  "language_info": {
   "codemirror_mode": {
    "name": "ipython",
    "version": 3
   },
   "file_extension": ".py",
   "mimetype": "text/x-python",
   "name": "python",
   "nbconvert_exporter": "python",
   "pygments_lexer": "ipython3",
   "version": "3.9.6"
  }
 },
 "nbformat": 4,
 "nbformat_minor": 2
}
