{
 "cells": [
  {
   "cell_type": "markdown",
   "metadata": {},
   "source": [
    "## Extract Transform and Load the Data set."
   ]
  },
  {
   "cell_type": "code",
   "execution_count": null,
   "metadata": {},
   "outputs": [],
   "source": [
    "import pandas as pd \n",
    "import numpy as np\n",
    "import matplotlib.pyplot as plt \n",
    "\n",
    "reviews_df = pd.read_csv(\"Reviews.csv\")\n",
    "\n",
    "#Only keep reviews with a non-zero helpfulness rating.\n",
    "reviews_df = reviews_df[reviews_df[\"HelpfulnessNumerator\"] > 0]\n",
    "\n",
    "#Compute the length of each review and delete all reviews that are longer than 512 characters.\n",
    "reviews_df['ReviewLength'] = list(map(len, reviews_df['Text']))\n",
    "reviews_df = reviews_df[reviews_df[\"ReviewLength\"] <= 512]\n",
    "\n",
    "#Drop all unnecessary columns.\n",
    "reviews_df.drop(columns=[\"ProductId\", \"ProfileName\", \"HelpfulnessDenominator\", \"Time\", \"Summary\"], inplace=True)\n",
    "\n",
    "#Determine how many reviews correspond to each UserId.\n",
    "review_counts = reviews_df[\"UserId\"].value_counts()\n",
    "review_count_df = review_counts.to_frame()\n",
    "review_count_df.rename(columns={\"count\":\"ReviewCount\"}, inplace=True)\n",
    "\n",
    "#Only keep reviews by users with atleast 20 reviews.\n",
    "reviews_df.set_index(\"UserId\", inplace=True)\n",
    "reviews_df = reviews_df.join(review_count_df, how=\"outer\")\n",
    "reviews_df = reviews_df[reviews_df[\"ReviewCount\"] >=20]\n",
    "\n",
    "print(reviews_df.shape)\n",
    "reviews_df.head()"
   ]
  },
  {
   "cell_type": "markdown",
   "metadata": {},
   "source": [
    "## Sentiment Analysis"
   ]
  },
  {
   "cell_type": "code",
   "execution_count": null,
   "metadata": {},
   "outputs": [],
   "source": [
    "from transformers import AutoTokenizer\n",
    "from transformers import AutoModelForSequenceClassification\n",
    "from transformers import pipeline\n",
    "from scipy.special import softmax\n",
    "\n",
    "#Roberta Sentiment Analysis Model.\n",
    "sentiment_analysis_pipeline = pipeline('sentiment-analysis')\n",
    "\n",
    "#Determine the sentiment label and score for each review.\n",
    "sentiment_objects = list(map(sentiment_analysis_pipeline, reviews_df['Text']))\n",
    "sentiment_labels = [obj[0]['label'] for obj in sentiment_objects]\n",
    "sentiment_confidence = [obj[0]['score'] for obj in sentiment_objects]\n",
    "\n",
    "#Append the sentiment scores and labels to the dataframe.\n",
    "reviews_df[\"SentimentLabels\"] = sentiment_labels\n",
    "reviews_df[\"SentimentConfidence\"] = sentiment_confidence\n",
    "\n",
    "#Save the new dataframe as a csv file.\n",
    "reviews_df.to_csv(\"transformed_reviews.csv\", header=True, index=True)\n",
    "\n",
    "reviews_df.head()"
   ]
  },
  {
   "cell_type": "markdown",
   "metadata": {},
   "source": [
    "## Data Visualization"
   ]
  },
  {
   "cell_type": "code",
   "execution_count": null,
   "metadata": {},
   "outputs": [],
   "source": [
    "data_df = pd.read_csv(\"transformed_reviews.csv\")\n",
    "plt.hist(data_df[\"SentimentLabels\"])"
   ]
  },
  {
   "cell_type": "markdown",
   "metadata": {},
   "source": [
    "**Random Sample of 50 Positive and 50 Negative Reviews for T-test**\n"
   ]
  },
  {
   "cell_type": "code",
   "execution_count": null,
   "metadata": {},
   "outputs": [],
   "source": [
    "# pos_reviews = reviews_df[\"Score\"] >= 4 # 4 stars or more is a positive review\n",
    "# reviews_pos = reviews_df[pos_reviews]\n",
    "# neg_reviews = reviews_df[\"Score\"] <= 2 # 2 stars and below is a negative review\n",
    "# reviews_neg = reviews_df[neg_reviews]\n",
    "\n",
    "# reviews_pos.drop(columns=[\"Text\", \"ReviewLength\"], inplace=True)\n",
    "# reviews_neg.drop(columns=[\"Text\", \"ReviewLength\"], inplace=True)\n",
    "\n",
    "# print(reviews_pos.shape)\n",
    "# reviews_pos.sample(50)"
   ]
  },
  {
   "cell_type": "code",
   "execution_count": null,
   "metadata": {},
   "outputs": [],
   "source": [
    "# print(reviews_neg.shape)\n",
    "# reviews_neg.sample(50)"
   ]
  },
  {
   "cell_type": "markdown",
   "metadata": {},
   "source": [
    "## Analysis 2: Classifier"
   ]
  },
  {
   "cell_type": "code",
   "execution_count": null,
   "metadata": {},
   "outputs": [],
   "source": [
    "from sklearn.model_selection import train_test_split\n",
    "from sklearn.pipeline import make_pipeline\n",
    "from sklearn.naive_bayes import GaussianNB\n",
    "from sklearn.neighbors import KNeighborsClassifier\n",
    "from sklearn.ensemble import RandomForestClassifier\n",
    "from sklearn.preprocessing import StandardScaler\n",
    "import numpy as np\n",
    "import pandas as pd\n",
    "\n",
    "# Create random lists to use for prediction dataframe\n",
    "random_score = np.random.randint(1, 6, size=50)\n",
    "random_review_length = np.random.randint(71, 512, size=50)\n",
    "random_pos_neg = np.random.randint(2, size=50)\n",
    "\n",
    "# Create dataframe to use for prediction\n",
    "unlabelled_data = {'Score': random_score, 'ReviewLength': random_review_length, 'SentimentLabelsBoolean': random_pos_neg}\n",
    "unlabelled_df = pd.DataFrame(data=unlabelled_data)\n",
    "\n",
    "# Create new column to store boolean for POSITIVE (1) or NEGATIVE (0) SentimentLabels \n",
    "data_df['SentimentLabelsBoolean'] = np.where(data_df['SentimentLabels'] == 'POSITIVE', 1, 0)\n",
    "\n",
    "X = data_df[['Score', 'ReviewLength', 'SentimentLabelsBoolean']].values\n",
    "X_ul = unlabelled_df.values\n",
    "y = data_df['HelpfulnessNumerator'].values\n",
    "\n",
    "X_train, X_valid, y_train, y_valid = train_test_split(X, y)\n",
    "\n",
    "# Use RandomForestClassifier \n",
    "randomf_model = make_pipeline(StandardScaler(), RandomForestClassifier());\n",
    "randomf_model.fit(X_train, y_train);\n",
    "print(randomf_model.score(X_valid, y_valid))\n",
    "predictions = randomf_model.predict(X_ul)\n",
    "unlabelled_df = unlabelled_df.merge(pd.Series(predictions, name='HelpfulnessPrediction'), left_index=True, right_index=True)\n",
    "print(unlabelled_df)"
   ]
  },
  {
   "cell_type": "code",
   "execution_count": null,
   "metadata": {},
   "outputs": [],
   "source": []
  },
  {
   "cell_type": "code",
   "execution_count": null,
   "metadata": {},
   "outputs": [],
   "source": []
  }
 ],
 "metadata": {
  "kernelspec": {
   "display_name": "Python 3 (ipykernel)",
   "language": "python",
   "name": "python3"
  },
  "language_info": {
   "codemirror_mode": {
    "name": "ipython",
    "version": 3
   },
   "file_extension": ".py",
   "mimetype": "text/x-python",
   "name": "python",
   "nbconvert_exporter": "python",
   "pygments_lexer": "ipython3",
   "version": "3.11.4"
  }
 },
 "nbformat": 4,
 "nbformat_minor": 2
}
