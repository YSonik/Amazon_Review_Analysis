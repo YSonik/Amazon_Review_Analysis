{
 "cells": [
  {
   "cell_type": "markdown",
   "metadata": {},
   "source": [
    "## Extract Transform and Load the Data set."
   ]
  },
  {
   "cell_type": "code",
   "execution_count": null,
   "metadata": {},
   "outputs": [],
   "source": [
    "import pandas as pd \n",
    "import numpy as np\n",
    "import matplotlib.pyplot as plt \n",
    "\n",
    "reviews_df = pd.read_csv(\"Reviews.csv\")\n",
    "\n",
    "# Only keep reviews with non-zero helpfulness rating.\n",
    "helpfulnessMask = reviews_df[\"HelpfulnessNumerator\"] > 0\n",
    "reviews_df = reviews_df[helpfulnessMask]\n",
    "\n",
    "# Compute the length of each review and filter out reviews less than 512 characters.\n",
    "reviews_df['ReviewLength'] = list(map(len, reviews_df['Text']))\n",
    "reviewLengthMask = reviews_df[\"ReviewLength\"] <= 512\n",
    "reviews_df = reviews_df[reviewLengthMask]\n",
    "\n",
    "# Drop unecessary columns\n",
    "reviews_df.drop(columns=[\"ProductId\", \"ProfileName\", \"HelpfulnessDenominator\", \"Time\", \"Summary\"], inplace=True)\n",
    "reviews_df.set_index(\"UserId\", inplace=True)\n",
    "\n",
    "# Determine how many reviews correspond to each user id.\n",
    "review_counts = reviews_df.pivot_table(index=[\"UserId\"], aggfunc='size')\n",
    "review_count_df = review_counts.to_frame()\n",
    "review_count_df.rename(columns={0:\"ReviewCount\"}, inplace=True)\n",
    "\n",
    "# Join the dataframes and keep reviews by users with 20 or more reviews (more reviews = more average interaction)\n",
    "reviews_df = reviews_df.join(review_count_df, how=\"outer\")\n",
    "reviews_df = reviews_df[reviews_df[\"ReviewCount\"] >= 20]\n",
    "\n",
    "print(reviews_df.shape)\n",
    "reviews_df.head(20)"
   ]
  },
  {
   "cell_type": "markdown",
   "metadata": {},
   "source": [
    "## Sentiment Analysis"
   ]
  },
  {
   "cell_type": "code",
   "execution_count": null,
   "metadata": {},
   "outputs": [],
   "source": [
    "from transformers import AutoTokenizer\n",
    "from transformers import AutoModelForSequenceClassification\n",
    "from transformers import pipeline\n",
    "from scipy.special import softmax\n",
    "\n",
    "sentiment_analysis_pipeline = pipeline('sentiment-analysis')\n",
    "\n",
    "sentiment_objects = list(map(sentiment_analysis_pipeline, reviews_df['Text']))\n",
    "sentiment_labels = [obj[0]['label'] for obj in sentiment_objects]\n",
    "sentiment_scores = [obj[0]['score'] for obj in sentiment_objects]\n",
    "\n",
    "reviews_df[\"SentimentLabels\"] = sentiment_labels\n",
    "reviews_df[\"SentimentScores\"] = sentiment_scores\n",
    "\n",
    "reviews_df.to_csv(\"transformed_reviews.csv\", header=True, index=True)\n",
    "\n",
    "reviews_df.head()"
   ]
  },
  {
   "cell_type": "markdown",
   "metadata": {},
   "source": [
    "## Data Visualization ##"
   ]
  },
  {
   "cell_type": "code",
   "execution_count": null,
   "metadata": {},
   "outputs": [],
   "source": [
    "data_df = pd.read_csv(\"transformed_reviews.csv\")\n",
    "plt.hist(data_df[\"SentimentLabels\"])"
   ]
  },
  {
   "cell_type": "markdown",
   "metadata": {},
   "source": [
    "**Random Sample of 50 Positive and 50 Negative Reviews for T-test**"
   ]
  },
  {
   "cell_type": "code",
   "execution_count": null,
   "metadata": {},
   "outputs": [],
   "source": [
    "print(type(sentiment_labels))"
   ]
  },
  {
   "cell_type": "code",
   "execution_count": null,
   "metadata": {},
   "outputs": [],
   "source": [
    "pos_reviews = reviews_df[reviews_df['SentimentLabels'] == 'POSITIVE']\n",
    "neg_reviews = reviews_df[reviews_df['SentimentLabels'] == 'NEGATIVE']\n",
    "\n",
    "pos_reviews.drop(columns=[\"Text\", \"ReviewLength\"], inplace=True)\n",
    "neg_reviews.drop(columns=[\"Text\", \"ReviewLength\"], inplace=True)\n",
    "\n",
    "print(pos_reviews.shape)\n",
    "pos_reviews.sample(50)"
   ]
  },
  {
   "cell_type": "code",
   "execution_count": null,
   "metadata": {},
   "outputs": [],
   "source": [
    "print(neg_reviews.shape)\n",
    "neg_reviews.sample(50)"
   ]
  },
  {
   "cell_type": "code",
   "execution_count": null,
   "metadata": {},
   "outputs": [],
   "source": [
    "from scipy import stats\n",
    "\n",
    "pos_scores = pos_reviews['SentimentScores']\n",
    "neg_scores = neg_reviews['SentimentScores']\n",
    "\n",
    "t_stat, p_val = stats.ttest_ind(pos_scores, neg_scores)\n",
    "print(pos_scores.mean(), pos_scores.std())\n",
    "print(neg_scores.mean(), neg_scores.std())\n",
    "t_stat, p_val"
   ]
  }
 ],
 "metadata": {
  "kernelspec": {
   "display_name": "Python 3 (ipykernel)",
   "language": "python",
   "name": "python3"
  },
  "language_info": {
   "codemirror_mode": {
    "name": "ipython",
    "version": 3
   },
   "file_extension": ".py",
   "mimetype": "text/x-python",
   "name": "python",
   "nbconvert_exporter": "python",
   "pygments_lexer": "ipython3",
   "version": "3.11.4"
  }
 },
 "nbformat": 4,
 "nbformat_minor": 2
}
