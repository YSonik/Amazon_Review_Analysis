{
 "cells": [
  {
   "cell_type": "markdown",
   "metadata": {},
   "source": [
    "## Data Analysis 1: T-test"
   ]
  },
  {
   "cell_type": "markdown",
   "metadata": {},
   "source": [
    "**Random Sample of Positive and Negative Reviews for T-test**"
   ]
  },
  {
   "cell_type": "code",
   "execution_count": 27,
   "metadata": {},
   "outputs": [],
   "source": [
    "import pandas as pd\n",
    "\n",
    "transformed_reviews_df = pd.read_csv(\"transformed_reviews.csv\") # Read the csv file\n",
    "\n",
    "# Acquire an equal number of positive and negative reviews based on number of negative reviews \n",
    "# as the number of negative reviews < number of positive reviews\n",
    "neg_reviews = transformed_reviews_df[transformed_reviews_df['SentimentLabels'] == 'NEGATIVE']\n",
    "pos_reviews = transformed_reviews_df[transformed_reviews_df['SentimentLabels'] == 'POSITIVE'].sample(n=neg_reviews.shape[0]) "
   ]
  },
  {
   "cell_type": "markdown",
   "metadata": {},
   "source": [
    "**Perform the T-test**"
   ]
  },
  {
   "cell_type": "code",
   "execution_count": 28,
   "metadata": {},
   "outputs": [
    {
     "name": "stdout",
     "output_type": "stream",
     "text": [
      "2.9866461222393426 6.663380807195014\n",
      "2.6979969183359014 5.160946228679826\n",
      "t_stat: 1.511172565817949\n",
      "p_val: 0.13082567387844107\n"
     ]
    }
   ],
   "source": [
    "from scipy import stats\n",
    "\n",
    "pos_numerator = pos_reviews['HelpfulnessNumerator'] # Extract the helpfulness numerator values\n",
    "neg_numerator = neg_reviews['HelpfulnessNumerator']\n",
    "\n",
    "# Perform the T-test\n",
    "t_stat, p_val = stats.ttest_ind(pos_numerator, neg_numerator)\n",
    "print(pos_numerator.mean(), pos_numerator.std()) # Positive numerator mean and std\n",
    "print(neg_numerator.mean(), neg_numerator.std()) # Negative numerator mean and std\n",
    "print(\"t_stat:\", t_stat)\n",
    "print(\"p_val:\", p_val)"
   ]
  }
 ],
 "metadata": {
  "kernelspec": {
   "display_name": "Python 3 (ipykernel)",
   "language": "python",
   "name": "python3"
  },
  "language_info": {
   "codemirror_mode": {
    "name": "ipython",
    "version": 3
   },
   "file_extension": ".py",
   "mimetype": "text/x-python",
   "name": "python",
   "nbconvert_exporter": "python",
   "pygments_lexer": "ipython3",
   "version": "3.9.13"
  }
 },
 "nbformat": 4,
 "nbformat_minor": 2
}
