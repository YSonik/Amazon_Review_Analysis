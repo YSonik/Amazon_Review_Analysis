{
 "cells": [
  {
   "cell_type": "markdown",
   "metadata": {},
   "source": [
    "## Data Analysis 1: T-test"
   ]
  },
  {
   "cell_type": "markdown",
   "metadata": {},
   "source": [
    "**Random Sample of Positive and Negative Reviews for T-test**"
   ]
  },
  {
   "cell_type": "code",
   "execution_count": 17,
   "metadata": {},
   "outputs": [],
   "source": [
    "import pandas as pd\n",
    "import numpy as np\n",
    "\n",
    "transformed_reviews_df = pd.read_csv(\"transformed_reviews.csv\") # Read the csv file\n",
    "\n",
    "# Acquire an equal number of positive and negative reviews based on number of negative reviews \n",
    "# as the number of negative reviews < number of positive reviews\n",
    "neg_reviews = transformed_reviews_df[transformed_reviews_df['SentimentLabels'] == 'NEGATIVE']\n",
    "pos_reviews = transformed_reviews_df[transformed_reviews_df['SentimentLabels'] == 'POSITIVE'].sample(n=neg_reviews.shape[0])"
   ]
  },
  {
   "cell_type": "markdown",
   "metadata": {},
   "source": [
    "**Normality Test**"
   ]
  },
  {
   "cell_type": "code",
   "execution_count": 18,
   "metadata": {},
   "outputs": [
    {
     "name": "stdout",
     "output_type": "stream",
     "text": [
      "Positive reviews normality test statistic: 259.95110824650385\n",
      "Positive reviews normality test p-value: 3.567254232830481e-57\n",
      "Negative reviews normality test statistic: 225.06914590583173\n",
      "Negative reviews normality test p-value: 1.3392323863178282e-49\n",
      "\n",
      "\n",
      "Positive reviews normality test statistic after log transform: 289.8967454588609\n",
      "Positive reviews normality test p-value after log transform: 1.12129933025864e-63\n",
      "Negative reviews normality test statistic after log transform: 558.4015432185131\n",
      "Negative reviews normality test p-value after log transform: 5.554507365146226e-122\n"
     ]
    }
   ],
   "source": [
    "from scipy import stats\n",
    "import matplotlib.pyplot as plt\n",
    "\n",
    "pos_numerator = pos_reviews['HelpfulnessNumerator']  # Extract the helpfulness numerator values\n",
    "neg_numerator = neg_reviews['HelpfulnessNumerator']\n",
    "\n",
    "# Perform normality test\n",
    "pos_num_normal = stats.normaltest(pos_numerator)\n",
    "neg_num_normal = stats.normaltest(neg_numerator)\n",
    "print(\"Positive reviews normality test statistic:\", pos_num_normal.statistic)\n",
    "print(\"Positive reviews normality test p-value:\", pos_num_normal.pvalue)\n",
    "print(\"Negative reviews normality test statistic:\", neg_num_normal.statistic)\n",
    "print(\"Negative reviews normality test p-value:\", neg_num_normal.pvalue)\n",
    "print(\"\\n\")\n",
    "\n",
    "# Apply log transformation\n",
    "pos_numerator_log = np.log(pos_numerator + 1)  # Adding 1 to avoid division by zero\n",
    "neg_numerator_log = np.log(neg_numerator + 1)\n",
    "\n",
    "# Perform normality test again\n",
    "pos_num_normal = stats.normaltest(pos_numerator_log)\n",
    "neg_num_normal = stats.normaltest(neg_numerator_log)\n",
    "print(\"Positive reviews normality test statistic after log transform:\", pos_num_normal.statistic)\n",
    "print(\"Positive reviews normality test p-value after log transform:\", pos_num_normal.pvalue)\n",
    "print(\"Negative reviews normality test statistic after log transform:\", neg_num_normal.statistic)\n",
    "print(\"Negative reviews normality test p-value after log transform:\", neg_num_normal.pvalue)\n"
   ]
  },
  {
   "cell_type": "markdown",
   "metadata": {},
   "source": [
    "**Equal Variance Test**"
   ]
  },
  {
   "cell_type": "code",
   "execution_count": 19,
   "metadata": {},
   "outputs": [
    {
     "name": "stdout",
     "output_type": "stream",
     "text": [
      "Levene's test statistic: 0.13455138654200047\n",
      "Levene's test p-value: 0.7137806098101553\n"
     ]
    }
   ],
   "source": [
    "# Perform the equal variance test\n",
    "levene_test = stats.levene(pos_numerator, neg_numerator)\n",
    "print(\"Levene's test statistic:\", levene_test.statistic)\n",
    "print(\"Levene's test p-value:\", levene_test.pvalue)"
   ]
  },
  {
   "cell_type": "markdown",
   "metadata": {},
   "source": [
    "**Perform the T-test**"
   ]
  },
  {
   "cell_type": "code",
   "execution_count": 20,
   "metadata": {},
   "outputs": [
    {
     "name": "stdout",
     "output_type": "stream",
     "text": [
      "1.9619899385131359 1.1978297199226733\n",
      "1.9390721073225266 1.2165798273608066\n",
      "t_stat: 0.5677663491979474\n",
      "p_val: 0.570229275891512\n"
     ]
    }
   ],
   "source": [
    "# Perform the T-test\n",
    "t_stat, p_val = stats.ttest_ind(pos_numerator, neg_numerator)\n",
    "print(pos_numerator.mean(), pos_numerator.std()) # Positive numerator mean and std\n",
    "print(neg_numerator.mean(), neg_numerator.std()) # Negative numerator mean and std\n",
    "print(\"t_stat:\", t_stat)\n",
    "print(\"p_val:\", p_val)"
   ]
  }
 ],
 "metadata": {
  "kernelspec": {
   "display_name": "Python 3 (ipykernel)",
   "language": "python",
   "name": "python3"
  },
  "language_info": {
   "codemirror_mode": {
    "name": "ipython",
    "version": 3
   },
   "file_extension": ".py",
   "mimetype": "text/x-python",
   "name": "python",
   "nbconvert_exporter": "python",
   "pygments_lexer": "ipython3",
   "version": "3.9.13"
  }
 },
 "nbformat": 4,
 "nbformat_minor": 2
}
