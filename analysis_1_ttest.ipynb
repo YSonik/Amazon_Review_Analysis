{
 "cells": [
  {
   "cell_type": "markdown",
   "metadata": {},
   "source": [
    "## Data Analysis 1: T-test"
   ]
  },
  {
   "cell_type": "markdown",
   "metadata": {},
   "source": [
    "**Random Sample of Positive and Negative Reviews for T-test**"
   ]
  },
  {
   "cell_type": "code",
   "execution_count": 245,
   "metadata": {},
   "outputs": [],
   "source": [
    "import pandas as pd\n",
    "import numpy as np\n",
    "from scipy import stats\n",
    "import matplotlib.pyplot as plt\n",
    "\n",
    "transformed_reviews_df = pd.read_csv(\"transformed_reviews.csv\") # Read the csv file\n",
    "\n",
    "# Acquire an equal number of positive and negative reviews based on number of negative reviews \n",
    "# as the number of negative reviews < number of positive reviews\n",
    "neg_reviews = transformed_reviews_df[transformed_reviews_df['SentimentLabels'] == 'NEGATIVE']\n",
    "pos_reviews = transformed_reviews_df[transformed_reviews_df['SentimentLabels'] == 'POSITIVE'].sample(n=neg_reviews.shape[0])\n",
    "\n",
    "pos_numerator = pos_reviews['HelpfulnessNumerator']  # Extract the helpfulness numerator values\n",
    "neg_numerator = neg_reviews['HelpfulnessNumerator']\n",
    "\n",
    "#print(pos_reviews.shape)\n",
    "#print(neg_reviews.shape)"
   ]
  },
  {
   "cell_type": "markdown",
   "metadata": {},
   "source": [
    "**Normality Test**"
   ]
  },
  {
   "cell_type": "code",
   "execution_count": 246,
   "metadata": {},
   "outputs": [
    {
     "name": "stdout",
     "output_type": "stream",
     "text": [
      "Positive reviews normality test statistic: 265.22817072074014\n",
      "Positive reviews normality test p-value: 2.549379594474762e-58\n",
      "Negative reviews normality test statistic: 225.06914590583173\n",
      "Negative reviews normality test p-value: 1.3392323863178282e-49\n",
      "\n",
      "\n",
      "Positive reviews normality test statistic after log transform: 260.5436468932853\n",
      "Positive reviews normality test p-value after log transform: 2.652564357093661e-57\n",
      "Negative reviews normality test statistic after log transform: 506.88766778531544\n",
      "Negative reviews normality test p-value after log transform: 8.52592421560746e-111\n"
     ]
    }
   ],
   "source": [
    "# Perform normality test\n",
    "pos_num_normal = stats.normaltest(pos_numerator)\n",
    "neg_num_normal = stats.normaltest(neg_numerator)\n",
    "print(\"Positive reviews normality test statistic:\", pos_num_normal.statistic)\n",
    "print(\"Positive reviews normality test p-value:\", pos_num_normal.pvalue)\n",
    "print(\"Negative reviews normality test statistic:\", neg_num_normal.statistic)\n",
    "print(\"Negative reviews normality test p-value:\", neg_num_normal.pvalue)\n",
    "print(\"\\n\")\n",
    "\n",
    "# Apply log transformation\n",
    "# pos_numerator_log = np.log(pos_numerator + 1)  # Adding 1 to avoid division by zero\n",
    "# neg_numerator_log = np.log(neg_numerator + 1)\n",
    "\n",
    "# Apply cbrt transformation\n",
    "pos_numerator_log = np.cbrt(pos_numerator)\n",
    "neg_numerator_log = np.cbrt(neg_numerator)\n",
    "\n",
    "# Perform normality test again\n",
    "pos_num_normal = stats.normaltest(pos_numerator_log)\n",
    "neg_num_normal = stats.normaltest(neg_numerator_log)\n",
    "print(\"Positive reviews normality test statistic after log transform:\", pos_num_normal.statistic)\n",
    "print(\"Positive reviews normality test p-value after log transform:\", pos_num_normal.pvalue)\n",
    "print(\"Negative reviews normality test statistic after log transform:\", neg_num_normal.statistic)\n",
    "print(\"Negative reviews normality test p-value after log transform:\", neg_num_normal.pvalue)\n"
   ]
  },
  {
   "cell_type": "markdown",
   "metadata": {},
   "source": [
    "**Equal Variance Test**"
   ]
  },
  {
   "cell_type": "code",
   "execution_count": 247,
   "metadata": {},
   "outputs": [
    {
     "name": "stdout",
     "output_type": "stream",
     "text": [
      "Levene's test statistic: 0.10097051477186361\n",
      "Levene's test p-value: 0.7506866252805784\n",
      "\n",
      "\n",
      "Levene's test statistic: 0.389436873853599\n",
      "Levene's test p-value: 0.5326353597681985\n"
     ]
    }
   ],
   "source": [
    "# Perform the equal variance test\n",
    "ev_test = stats.levene(pos_numerator, neg_numerator)\n",
    "print(\"Levene's test statistic:\", ev_test.statistic)\n",
    "print(\"Levene's test p-value:\", ev_test.pvalue)\n",
    "print(\"\\n\")\n",
    "\n",
    "# Perform the equal variance test (w/ log transformation)\n",
    "ev_test_log = stats.levene(pos_numerator_log, neg_numerator_log)\n",
    "print(\"Levene's test statistic:\", ev_test_log.statistic)\n",
    "print(\"Levene's test p-value:\", ev_test_log.pvalue)"
   ]
  },
  {
   "cell_type": "markdown",
   "metadata": {},
   "source": [
    "**Perform the T-test**"
   ]
  },
  {
   "cell_type": "code",
   "execution_count": 248,
   "metadata": {},
   "outputs": [
    {
     "name": "stdout",
     "output_type": "stream",
     "text": [
      "1.951928451648966 1.2035243377543343\n",
      "1.9390721073225266 1.2165798273608066\n",
      "t_stat: 0.3177585793835685\n",
      "p_val: 0.7506866252807513\n"
     ]
    }
   ],
   "source": [
    "t_stat, p_val = stats.ttest_ind(pos_numerator, neg_numerator)\n",
    "print(pos_numerator.mean(), pos_numerator.std()) # Positive numerator mean and std\n",
    "print(neg_numerator.mean(), neg_numerator.std()) # Negative numerator mean and std\n",
    "print(\"t_stat:\", t_stat)\n",
    "print(\"p_val:\", p_val)"
   ]
  },
  {
   "cell_type": "markdown",
   "metadata": {},
   "source": [
    "**Perform U-test**"
   ]
  },
  {
   "cell_type": "code",
   "execution_count": 249,
   "metadata": {},
   "outputs": [
    {
     "name": "stdout",
     "output_type": "stream",
     "text": [
      "1.951928451648966 1.2035243377543343\n",
      "1.9390721073225266 1.2165798273608066\n",
      "u_stat: 1627772.5\n",
      "p_val: 0.33314657800496394\n"
     ]
    }
   ],
   "source": [
    "u_stat, p_val = stats.mannwhitneyu(pos_numerator, neg_numerator)\n",
    "print(pos_numerator.mean(), pos_numerator.std()) # Positive numerator mean and std\n",
    "print(neg_numerator.mean(), neg_numerator.std()) # Negative numerator mean and std\n",
    "print(\"u_stat:\", u_stat)\n",
    "print(\"p_val:\", p_val)"
   ]
  }
 ],
 "metadata": {
  "kernelspec": {
   "display_name": "Python 3 (ipykernel)",
   "language": "python",
   "name": "python3"
  },
  "language_info": {
   "codemirror_mode": {
    "name": "ipython",
    "version": 3
   },
   "file_extension": ".py",
   "mimetype": "text/x-python",
   "name": "python",
   "nbconvert_exporter": "python",
   "pygments_lexer": "ipython3",
   "version": "3.9.13"
  }
 },
 "nbformat": 4,
 "nbformat_minor": 2
}
