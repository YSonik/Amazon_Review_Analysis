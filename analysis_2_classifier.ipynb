{
 "cells": [
  {
   "cell_type": "markdown",
   "metadata": {},
   "source": [
    "## Data Analysis 2: Classfier"
   ]
  },
  {
   "cell_type": "code",
   "execution_count": 24,
   "metadata": {},
   "outputs": [
    {
     "name": "stdout",
     "output_type": "stream",
     "text": [
      "0.8107255520504731\n",
      "0.7009984235417761\n"
     ]
    }
   ],
   "source": [
    "import pandas as pd \n",
    "import numpy as np\n",
    "from sklearn.model_selection import train_test_split\n",
    "from sklearn.pipeline import make_pipeline\n",
    "from sklearn.naive_bayes import GaussianNB\n",
    "from sklearn.neighbors import KNeighborsClassifier\n",
    "from sklearn.ensemble import RandomForestClassifier\n",
    "from sklearn.preprocessing import StandardScaler\n",
    "\n",
    "data_df = pd.read_csv(\"transformed_reviews.csv\")\n",
    "\n",
    "# Create new column to store boolean for POSITIVE (1) or NEGATIVE (0) SentimentLabels \n",
    "data_df['SentimentLabelsBoolean'] = np.where(data_df['SentimentLabels'] == 'POSITIVE', 1, 0)\n",
    "\n",
    "\n",
    "X = data_df[['Score', 'ReviewLength', 'SentimentLabelsBoolean']].values\n",
    "y = data_df['HelpfulnessNumerator'].values\n",
    "\n",
    "X_train, X_valid, y_train, y_valid = train_test_split(X, y)\n",
    "\n",
    "# Use RandomForestClassifier \n",
    "randomf_model = make_pipeline(\n",
    "    StandardScaler(), \n",
    "    RandomForestClassifier()\n",
    ");\n",
    "\n",
    "randomf_model.fit(X_train, y_train);\n",
    "print(randomf_model.score(X_train, y_train))\n",
    "print(randomf_model.score(X_valid, y_valid))\n",
    "\n"
   ]
  },
  {
   "cell_type": "code",
   "execution_count": null,
   "metadata": {},
   "outputs": [],
   "source": []
  }
 ],
 "metadata": {
  "kernelspec": {
   "display_name": "Python 3",
   "language": "python",
   "name": "python3"
  },
  "language_info": {
   "codemirror_mode": {
    "name": "ipython",
    "version": 3
   },
   "file_extension": ".py",
   "mimetype": "text/x-python",
   "name": "python",
   "nbconvert_exporter": "python",
   "pygments_lexer": "ipython3",
   "version": "3.11.4"
  },
  "orig_nbformat": 4
 },
 "nbformat": 4,
 "nbformat_minor": 2
}
