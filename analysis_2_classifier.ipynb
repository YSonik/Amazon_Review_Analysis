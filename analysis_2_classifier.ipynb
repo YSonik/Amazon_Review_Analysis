{
 "cells": [
  {
   "cell_type": "markdown",
   "metadata": {},
   "source": [
    "## Data Analysis 2: Classfier"
   ]
  },
  {
   "cell_type": "code",
   "execution_count": 8,
   "metadata": {},
   "outputs": [
    {
     "name": "stdout",
     "output_type": "stream",
     "text": [
      "0.7162375197057278\n",
      "    Score  ReviewLength  SentimentLabelsBoolean  HelpfulnessPrediction\n",
      "0       3           481                       1                      1\n",
      "1       1           453                       1                      3\n",
      "2       5           207                       0                      3\n",
      "3       5           108                       1                      1\n",
      "4       1           211                       0                      2\n",
      "5       5            99                       1                      1\n",
      "6       3            78                       0                      1\n",
      "7       5           296                       1                      1\n",
      "8       1           460                       1                      3\n",
      "9       4           316                       0                      1\n",
      "10      4           300                       0                      2\n",
      "11      2           152                       0                      1\n",
      "12      5           397                       0                      1\n",
      "13      2           229                       0                      1\n",
      "14      4           352                       0                      2\n",
      "15      2           231                       0                      1\n",
      "16      1           192                       1                      2\n",
      "17      3           471                       0                      3\n",
      "18      1           369                       1                      4\n",
      "19      4           234                       1                      2\n",
      "20      2           428                       1                      1\n",
      "21      3           114                       0                      5\n",
      "22      5           472                       0                      4\n",
      "23      4           380                       1                      1\n",
      "24      5           498                       0                      1\n",
      "25      5           248                       1                      5\n",
      "26      2           358                       0                      1\n",
      "27      5           195                       1                      1\n",
      "28      5           156                       0                      3\n",
      "29      3           324                       0                      6\n",
      "30      2           160                       1                      1\n",
      "31      3           411                       0                      2\n",
      "32      4           398                       1                      2\n",
      "33      4           451                       0                      3\n",
      "34      5           330                       0                      1\n",
      "35      5           281                       1                      1\n",
      "36      4           338                       0                      7\n",
      "37      2           442                       1                      1\n",
      "38      4           374                       1                      2\n",
      "39      4           379                       0                      5\n",
      "40      3           333                       1                      4\n",
      "41      2           431                       0                      1\n",
      "42      1           167                       1                      1\n",
      "43      2           151                       0                      1\n",
      "44      3           171                       0                      1\n",
      "45      5           280                       1                      1\n",
      "46      1           134                       1                      1\n",
      "47      2           443                       1                      1\n",
      "48      2           105                       0                      1\n",
      "49      3           250                       1                      1\n"
     ]
    }
   ],
   "source": [
    "import pandas as pd \n",
    "import numpy as np\n",
    "from sklearn.model_selection import train_test_split\n",
    "from sklearn.pipeline import make_pipeline\n",
    "from sklearn.naive_bayes import GaussianNB\n",
    "from sklearn.neighbors import KNeighborsClassifier\n",
    "from sklearn.ensemble import RandomForestClassifier\n",
    "from sklearn.preprocessing import StandardScaler\n",
    "\n",
    "data_df = pd.read_csv(\"transformed_reviews.csv\")\n",
    "\n",
    "# Create random lists to use for prediction dataframe\n",
    "random_score = np.random.randint(1, 6, size=50)\n",
    "random_review_length = np.random.randint(71, 512, size=50)\n",
    "random_pos_neg = np.random.randint(2, size=50)\n",
    "\n",
    "# Create dataframe to use for prediction\n",
    "unlabelled_data = {'Score': random_score, 'ReviewLength': random_review_length, 'SentimentLabelsBoolean': random_pos_neg}\n",
    "unlabelled_df = pd.DataFrame(data=unlabelled_data)\n",
    "\n",
    "# Create new column to store boolean for POSITIVE (1) or NEGATIVE (0) SentimentLabels \n",
    "data_df['SentimentLabelsBoolean'] = np.where(data_df['SentimentLabels'] == 'POSITIVE', 1, 0)\n",
    "\n",
    "X = data_df[['Score', 'ReviewLength', 'SentimentLabelsBoolean']].values\n",
    "X_ul = unlabelled_df.values\n",
    "y = data_df['HelpfulnessNumerator'].values\n",
    "\n",
    "X_train, X_valid, y_train, y_valid = train_test_split(X, y)\n",
    "\n",
    "# Use RandomForestClassifier \n",
    "randomf_model = make_pipeline(\n",
    "    # StandardScaler(), \n",
    "    RandomForestClassifier()\n",
    ");\n",
    "randomf_model.fit(X_train, y_train);\n",
    "print(randomf_model.score(X_valid, y_valid))\n",
    "predictions = randomf_model.predict(X_ul)\n",
    "unlabelled_df = unlabelled_df.merge(pd.Series(predictions, name='HelpfulnessPrediction'), left_index=True, right_index=True)\n",
    "print(unlabelled_df)\n"
   ]
  },
  {
   "cell_type": "code",
   "execution_count": null,
   "metadata": {},
   "outputs": [],
   "source": []
  },
  {
   "cell_type": "code",
   "execution_count": null,
   "metadata": {},
   "outputs": [],
   "source": []
  }
 ],
 "metadata": {
  "kernelspec": {
   "display_name": "Python 3",
   "language": "python",
   "name": "python3"
  },
  "language_info": {
   "codemirror_mode": {
    "name": "ipython",
    "version": 3
   },
   "file_extension": ".py",
   "mimetype": "text/x-python",
   "name": "python",
   "nbconvert_exporter": "python",
   "pygments_lexer": "ipython3",
   "version": "3.11.4"
  },
  "orig_nbformat": 4
 },
 "nbformat": 4,
 "nbformat_minor": 2
}
