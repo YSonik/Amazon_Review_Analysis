{
 "cells": [
  {
   "cell_type": "markdown",
   "metadata": {},
   "source": [
    "## Data Analysis 2: Classfier"
   ]
  },
  {
   "cell_type": "code",
   "execution_count": 67,
   "metadata": {},
   "outputs": [
    {
     "name": "stdout",
     "output_type": "stream",
     "text": [
      "(391, 9)\n",
      "(391, 9)\n",
      "Training score: 0.892905866302865\n",
      "Validation score: 0.656441717791411\n"
     ]
    }
   ],
   "source": [
    "import pandas as pd \n",
    "import numpy as np\n",
    "from sklearn.model_selection import train_test_split\n",
    "from sklearn.pipeline import make_pipeline\n",
    "from sklearn.ensemble import RandomForestClassifier\n",
    "from sklearn.preprocessing import StandardScaler\n",
    "\n",
    "data_df = pd.read_csv(\"transformed_reviews.csv\")\n",
    "\n",
    "# Performing rebalancing of the dataset\n",
    "category5 = data_df[data_df['HelpfulnessNumerator'] == 5]\n",
    "category4 = data_df[data_df['HelpfulnessNumerator'] == 4].sample(n=category5.shape[0])\n",
    "category3 = data_df[data_df['HelpfulnessNumerator'] == 3].sample(n=category5.shape[0])\n",
    "category2 = data_df[data_df['HelpfulnessNumerator'] == 2].sample(n=category5.shape[0])\n",
    "category1 = data_df[data_df['HelpfulnessNumerator'] == 1].sample(n=category5.shape[0])\n",
    "\n",
    "categories = [category1, category2, category3, category4, category5]\n",
    "\n",
    "data_df = pd.concat(categories)\n",
    "\n",
    "# Create new column to store boolean for POSITIVE (1) or NEGATIVE (0) SentimentLabels \n",
    "data_df['SentimentLabelsBoolean'] = np.where(data_df['SentimentLabels'] == 'POSITIVE', 1, 0)\n",
    "\n",
    "X = data_df[['Score', 'ReviewLength', 'SentimentLabelsBoolean']].values\n",
    "y = data_df['HelpfulnessNumerator'].values\n",
    "\n",
    "X_train, X_valid, y_train, y_valid = train_test_split(X, y)\n",
    "\n",
    "# Use RandomForestClassifier \n",
    "randomf_model = make_pipeline(\n",
    "    StandardScaler(), \n",
    "    RandomForestClassifier(n_estimators=2000, max_depth=200)\n",
    ");\n",
    "\n",
    "randomf_model.fit(X_train, y_train);\n",
    "print(f\"Training score: {randomf_model.score(X_train, y_train)}\")\n",
    "print(f\"Validation score: {randomf_model.score(X_valid, y_valid)}\")"
   ]
  },
  {
   "cell_type": "code",
   "execution_count": null,
   "metadata": {},
   "outputs": [],
   "source": []
  }
 ],
 "metadata": {
  "kernelspec": {
   "display_name": "Python 3",
   "language": "python",
   "name": "python3"
  },
  "language_info": {
   "codemirror_mode": {
    "name": "ipython",
    "version": 3
   },
   "file_extension": ".py",
   "mimetype": "text/x-python",
   "name": "python",
   "nbconvert_exporter": "python",
   "pygments_lexer": "ipython3",
   "version": "3.11.4"
  },
  "orig_nbformat": 4
 },
 "nbformat": 4,
 "nbformat_minor": 2
}
